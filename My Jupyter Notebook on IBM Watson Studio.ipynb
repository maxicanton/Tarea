{
  "metadata": {
    "language_info": {
      "codemirror_mode": {
        "name": "python",
        "version": 3
      },
      "file_extension": ".py",
      "mimetype": "text/x-python",
      "name": "python",
      "nbconvert_exporter": "python",
      "pygments_lexer": "ipython3",
      "version": "3.8"
    },
    "kernelspec": {
      "name": "python",
      "display_name": "Pyolite",
      "language": "python"
    },
    "toc-autonumbering": false,
    "toc-showmarkdowntxt": false,
    "toc-showcode": false
  },
  "nbformat_minor": 4,
  "nbformat": 4,
  "cells": [
    {
      "cell_type": "markdown",
      "source": "# My Jupyter Notebook on IBM Watson Studio",
      "metadata": {}
    },
    {
      "cell_type": "markdown",
      "source": "**Maximiliano Canton**\ncivil engineer",
      "metadata": {}
    },
    {
      "cell_type": "markdown",
      "source": "*I am interested in data science because the job is very interesting and has many job opportunities*",
      "metadata": {}
    },
    {
      "cell_type": "markdown",
      "source": "### must add 1+1",
      "metadata": {}
    },
    {
      "cell_type": "markdown",
      "source": "1+1",
      "metadata": {}
    },
    {
      "cell_type": "markdown",
      "source": " -  - \n | Heading1 | Heading2 |\n| ----| ----|\n| text1 | text2 |\n| text3 | text4 |\n***",
      "metadata": {}
    }
  ]
}